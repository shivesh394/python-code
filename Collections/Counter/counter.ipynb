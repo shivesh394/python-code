{
 "cells": [
  {
   "cell_type": "code",
   "execution_count": 2,
   "metadata": {},
   "outputs": [
    {
     "name": "stdout",
     "output_type": "stream",
     "text": [
      "g g e e e e k k s s f o r "
     ]
    }
   ],
   "source": [
    "from collections import Counter\n",
    "a = Counter(\"geeksforgeeks\")\n",
    "\n",
    "for i in a.elements():\n",
    "\tprint ( i, end = \" \")"
   ]
  },
  {
   "cell_type": "code",
   "execution_count": 3,
   "metadata": {},
   "outputs": [
    {
     "name": "stdout",
     "output_type": "stream",
     "text": [
      "geeks geeks geeks geeks for gfg gfg python python python \n"
     ]
    }
   ],
   "source": [
    "b = Counter({'geeks' : 4, 'for' : 1,'gfg' : 2, 'python' : 3})\t\t\n",
    "\n",
    "for i in b.elements():\n",
    "\tprint ( i, end = \" \")\n",
    "print()"
   ]
  },
  {
   "cell_type": "code",
   "execution_count": 4,
   "metadata": {},
   "outputs": [
    {
     "name": "stdout",
     "output_type": "stream",
     "text": [
      "1 2 2 21 21 12 44 5 5 5 13 15 19 \n"
     ]
    }
   ],
   "source": [
    "c = Counter([1, 2, 21, 12, 2, 44, 5,13, 15, 5, 19, 21, 5])\t\t\t\n",
    "\n",
    "for i in c.elements():\n",
    "\tprint ( i, end = \" \")\n",
    "print()\t"
   ]
  },
  {
   "cell_type": "code",
   "execution_count": null,
   "metadata": {},
   "outputs": [],
   "source": [
    "d = Counter( a = 200, b = 3, c = 6, d = 1, e = 5)\n",
    "\n",
    "for i in d.elements():\n",
    "\tprint ( i, end = \" \")"
   ]
  },
  {
   "cell_type": "code",
   "execution_count": 1,
   "metadata": {},
   "outputs": [
    {
     "data": {
      "text/plain": [
       "Counter({'g': 2, 'e': 4, 'k': 2, 's': 2, 'f': 1, 'o': 1, 'r': 1})"
      ]
     },
     "execution_count": 1,
     "metadata": {},
     "output_type": "execute_result"
    }
   ],
   "source": [
    "from collections import Counter\n",
    "a = Counter(\"geeksforgeeks\")\n",
    "a"
   ]
  }
 ],
 "metadata": {
  "kernelspec": {
   "display_name": "Python 3",
   "language": "python",
   "name": "python3"
  },
  "language_info": {
   "codemirror_mode": {
    "name": "ipython",
    "version": 3
   },
   "file_extension": ".py",
   "mimetype": "text/x-python",
   "name": "python",
   "nbconvert_exporter": "python",
   "pygments_lexer": "ipython3",
   "version": "3.9.5"
  },
  "orig_nbformat": 4
 },
 "nbformat": 4,
 "nbformat_minor": 2
}

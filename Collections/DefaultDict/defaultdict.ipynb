{
 "cells": [
  {
   "cell_type": "code",
   "execution_count": 1,
   "metadata": {},
   "outputs": [
    {
     "name": "stdout",
     "output_type": "stream",
     "text": [
      "2\n"
     ]
    }
   ],
   "source": [
    "from collections import defaultdict\n",
    "d = defaultdict(int)\n",
    "d[9] = 1\n",
    "d[5] = 2\n",
    "d[4] = 4\n",
    "d[500] = 4\n",
    "d[2] = 4\n",
    "\n",
    "\n",
    "print(min(d))"
   ]
  },
  {
   "cell_type": "code",
   "execution_count": 2,
   "metadata": {},
   "outputs": [
    {
     "data": {
      "text/plain": [
       "[2, 4, 5, 9, 500]"
      ]
     },
     "execution_count": 2,
     "metadata": {},
     "output_type": "execute_result"
    }
   ],
   "source": [
    "sorted(d)"
   ]
  },
  {
   "cell_type": "code",
   "execution_count": 3,
   "metadata": {},
   "outputs": [
    {
     "data": {
      "text/plain": [
       "[(2, 4), (4, 4), (5, 2), (9, 1), (500, 4)]"
      ]
     },
     "execution_count": 3,
     "metadata": {},
     "output_type": "execute_result"
    }
   ],
   "source": [
    "sorted(d.items())"
   ]
  },
  {
   "cell_type": "code",
   "execution_count": 2,
   "metadata": {},
   "outputs": [
    {
     "name": "stdout",
     "output_type": "stream",
     "text": [
      "(9, 1)\n",
      "(5, 2)\n",
      "(4, 4)\n",
      "(500, 4)\n",
      "(2, 4)\n"
     ]
    }
   ],
   "source": [
    "for it in d.items():\n",
    "    print(it)"
   ]
  },
  {
   "cell_type": "code",
   "execution_count": 3,
   "metadata": {},
   "outputs": [
    {
     "name": "stdout",
     "output_type": "stream",
     "text": [
      "9 1\n",
      "5 2\n",
      "4 4\n",
      "500 4\n",
      "2 4\n"
     ]
    }
   ],
   "source": [
    "for i, num in d.items():\n",
    "    print(i, num)"
   ]
  },
  {
   "cell_type": "code",
   "execution_count": 4,
   "metadata": {},
   "outputs": [
    {
     "name": "stdout",
     "output_type": "stream",
     "text": [
      "2 4\n",
      "4 4\n",
      "5 2\n",
      "9 1\n",
      "500 4\n"
     ]
    }
   ],
   "source": [
    "\n",
    "for i in sorted(d):\n",
    "    print(i, d[i])  "
   ]
  },
  {
   "cell_type": "code",
   "execution_count": 5,
   "metadata": {},
   "outputs": [
    {
     "name": "stdout",
     "output_type": "stream",
     "text": [
      "2 4\n",
      "4 4\n",
      "5 2\n",
      "9 1\n",
      "500 4\n"
     ]
    }
   ],
   "source": [
    "for i, num in sorted(d.items()):\n",
    "    print(i, num)  "
   ]
  },
  {
   "cell_type": "code",
   "execution_count": 6,
   "metadata": {},
   "outputs": [
    {
     "name": "stdout",
     "output_type": "stream",
     "text": [
      "2 4\n",
      "4 4\n",
      "5 2\n",
      "9 1\n",
      "500 4\n"
     ]
    }
   ],
   "source": [
    "for i, num in sorted(d.items(), key = lambda d : d[0]):\n",
    "    print(i, num)"
   ]
  },
  {
   "cell_type": "code",
   "execution_count": 7,
   "metadata": {},
   "outputs": [
    {
     "name": "stdout",
     "output_type": "stream",
     "text": [
      "9 1\n",
      "5 2\n",
      "4 4\n",
      "500 4\n",
      "2 4\n"
     ]
    }
   ],
   "source": [
    "for i, num in sorted(d.items(), key = lambda d : d[1]):\n",
    "    print(i, num)"
   ]
  },
  {
   "cell_type": "code",
   "execution_count": 8,
   "metadata": {},
   "outputs": [
    {
     "name": "stdout",
     "output_type": "stream",
     "text": [
      "4 4\n",
      "500 4\n",
      "2 4\n",
      "5 2\n",
      "9 1\n"
     ]
    }
   ],
   "source": [
    "for i, num in sorted(d.items(), key = lambda d : d[1], reverse = True):\n",
    "    print(i, num)"
   ]
  },
  {
   "cell_type": "code",
   "execution_count": 2,
   "metadata": {},
   "outputs": [
    {
     "name": "stdout",
     "output_type": "stream",
     "text": [
      "[-1, 5, -6, 4, -6, 4, 1, 1, 1]\n"
     ]
    }
   ],
   "source": [
    "from collections import Counter\n",
    "nums = [-1,1,-6,4,5,-6,1,4,1]\n",
    "\n",
    "# Count the frequency of each number in the list using Counter\n",
    "num_frequency = Counter(nums)\n",
    "\n",
    "# Sort the numbers based on the frequency (ascending order)\n",
    "sorted_nums = sorted(nums, key = lambda x: (num_frequency[x],))\n",
    "print(sorted_nums)\n"
   ]
  },
  {
   "cell_type": "code",
   "execution_count": 3,
   "metadata": {},
   "outputs": [
    {
     "name": "stdout",
     "output_type": "stream",
     "text": [
      "[5, -1, 4, 4, -6, -6, 1, 1, 1]\n"
     ]
    }
   ],
   "source": [
    "# When frequencies are the same, sort by the number itself (descending order)\n",
    "sorted_nums = sorted(nums, key=lambda x: (num_frequency[x], -x))\n",
    "\n",
    "print(sorted_nums)"
   ]
  },
  {
   "cell_type": "code",
   "execution_count": null,
   "metadata": {},
   "outputs": [],
   "source": []
  }
 ],
 "metadata": {
  "kernelspec": {
   "display_name": "Python 3",
   "language": "python",
   "name": "python3"
  },
  "language_info": {
   "codemirror_mode": {
    "name": "ipython",
    "version": 3
   },
   "file_extension": ".py",
   "mimetype": "text/x-python",
   "name": "python",
   "nbconvert_exporter": "python",
   "pygments_lexer": "ipython3",
   "version": "3.12.3"
  }
 },
 "nbformat": 4,
 "nbformat_minor": 2
}

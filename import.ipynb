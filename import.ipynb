{
 "cells": [
  {
   "cell_type": "markdown",
   "metadata": {},
   "source": [
    "# chain.from_iterable"
   ]
  },
  {
   "cell_type": "code",
   "execution_count": 1,
   "metadata": {},
   "outputs": [
    {
     "name": "stdout",
     "output_type": "stream",
     "text": [
      "['g', 'e', 'e', 'k', 's', 'f', 'o', 'r', 'g', 'e', 'e', 'k', 's']\n"
     ]
    }
   ],
   "source": [
    "from itertools import chain \n",
    "\n",
    "# Single iterable containing iterable elements(strings) is passed as input \n",
    "from_iterable = chain.from_iterable(['geeks', 'for', 'geeks']) \n",
    "\n",
    "# printing the flattened iterable \n",
    "print(list(from_iterable)) "
   ]
  },
  {
   "cell_type": "code",
   "execution_count": 4,
   "metadata": {},
   "outputs": [
    {
     "name": "stdout",
     "output_type": "stream",
     "text": [
      "['g', 'e', 'e', 'k', 's', 'f', 'o', 'r', 'g', 'e', 'e', 'k', 's', 'w', 'i', 'n', 's']\n"
     ]
    }
   ],
   "source": [
    "# Importing chain class from itertools \n",
    "from itertools import chain \n",
    "\n",
    "\n",
    "# Single iterable containing iterable elements(strings and list) is passed as input \n",
    "from_iterable = chain.from_iterable(['geeks', 'for', 'geeks', ['w', 'i', 'n', 's']]) \n",
    "\n",
    "# printing the flattened iterable \n",
    "print(list(from_iterable)) "
   ]
  },
  {
   "cell_type": "markdown",
   "metadata": {},
   "source": [
    "# Combinations"
   ]
  },
  {
   "cell_type": "code",
   "execution_count": 7,
   "metadata": {},
   "outputs": [
    {
     "name": "stdout",
     "output_type": "stream",
     "text": [
      "[(1, 2), (1, 3), (1, 4), (2, 3), (2, 4), (3, 4)] 6\n"
     ]
    }
   ],
   "source": [
    "from itertools import combinations\n",
    "arr = [1, 2, 3, 4]\n",
    "r = 2\n",
    "comb = list(combinations(arr, r))\n",
    "print(comb, len(comb))   \n",
    "\n",
    "# to deal with duplicate subsets use set(list(combinations(arr, r))"
   ]
  },
  {
   "cell_type": "code",
   "execution_count": 11,
   "metadata": {},
   "outputs": [
    {
     "name": "stdout",
     "output_type": "stream",
     "text": [
      "[([1, 1], [3, 2]), ([1, 1], [5, 3]), ([1, 1], [4, 1]), ([1, 1], [2, 3]), ([1, 1], [1, 4]), ([3, 2], [5, 3]), ([3, 2], [4, 1]), ([3, 2], [2, 3]), ([3, 2], [1, 4]), ([5, 3], [4, 1]), ([5, 3], [2, 3]), ([5, 3], [1, 4]), ([4, 1], [2, 3]), ([4, 1], [1, 4]), ([2, 3], [1, 4])]\n",
      "15\n"
     ]
    }
   ],
   "source": [
    "\n",
    "arr = [[1,1],[3,2],[5,3],[4,1],[2,3],[1,4]]\n",
    "r = 2\n",
    "comb = list(combinations(arr, r))\n",
    "print(comb)\n",
    "print(len(comb))"
   ]
  },
  {
   "cell_type": "code",
   "execution_count": 12,
   "metadata": {},
   "outputs": [
    {
     "name": "stdout",
     "output_type": "stream",
     "text": [
      "[(1, 1, 1), (1, 1, 2), (1, 1, 3), (1, 1, 4), (1, 2, 2), (1, 2, 3), (1, 2, 4), (1, 3, 3), (1, 3, 4), (1, 4, 4), (2, 2, 2), (2, 2, 3), (2, 2, 4), (2, 3, 3), (2, 3, 4), (2, 4, 4), (3, 3, 3), (3, 3, 4), (3, 4, 4), (4, 4, 4)]\n",
      "20\n"
     ]
    }
   ],
   "source": [
    "from itertools import combinations_with_replacement\n",
    "comb = list(combinations_with_replacement([1, 2, 3, 4], 3))\n",
    "print(comb)\n",
    "print(len(comb))"
   ]
  },
  {
   "cell_type": "markdown",
   "metadata": {},
   "source": [
    "# Permutations"
   ]
  },
  {
   "cell_type": "code",
   "execution_count": 17,
   "metadata": {},
   "outputs": [
    {
     "name": "stdout",
     "output_type": "stream",
     "text": [
      "[(1, 2, 3, 4), (1, 2, 4, 3), (1, 3, 2, 4), (1, 3, 4, 2), (1, 4, 2, 3), (1, 4, 3, 2), (2, 1, 3, 4), (2, 1, 4, 3), (2, 3, 1, 4), (2, 3, 4, 1), (2, 4, 1, 3), (2, 4, 3, 1), (3, 1, 2, 4), (3, 1, 4, 2), (3, 2, 1, 4), (3, 2, 4, 1), (3, 4, 1, 2), (3, 4, 2, 1), (4, 1, 2, 3), (4, 1, 3, 2), (4, 2, 1, 3), (4, 2, 3, 1), (4, 3, 1, 2), (4, 3, 2, 1)]\n",
      "24\n"
     ]
    }
   ],
   "source": [
    "from itertools import permutations\n",
    "perm = list(permutations([1, 2, 3, 4]))\n",
    "print(perm)\n",
    "print(len(perm))"
   ]
  },
  {
   "cell_type": "code",
   "execution_count": 22,
   "metadata": {},
   "outputs": [
    {
     "name": "stdout",
     "output_type": "stream",
     "text": [
      "[(1, 2), (1, 3), (1, 4), (1, 5), (2, 1), (2, 3), (2, 4), (2, 5), (3, 1), (3, 2), (3, 4), (3, 5), (4, 1), (4, 2), (4, 3), (4, 5), (5, 1), (5, 2), (5, 3), (5, 4)]\n",
      "20\n"
     ]
    }
   ],
   "source": [
    "# Get all permutations of length 2\n",
    "\n",
    "perm = list(permutations([1, 2, 3, 4, 5], 2))\n",
    "\n",
    "print(perm)\n",
    "print(len(perm))"
   ]
  },
  {
   "cell_type": "markdown",
   "metadata": {},
   "source": [
    "# Heapq"
   ]
  },
  {
   "cell_type": "code",
   "execution_count": 23,
   "metadata": {},
   "outputs": [
    {
     "name": "stdout",
     "output_type": "stream",
     "text": [
      "[14, 13, 12, 10]\n",
      "[0, 2, 3, 4]\n"
     ]
    }
   ],
   "source": [
    "from heapq import *\n",
    "nums = [2,7,4,0,8,12,14,13,10,3,4]\n",
    "heapify(nums)\n",
    "print(nlargest(4, nums))\n",
    "print(nsmallest(4, nums))"
   ]
  },
  {
   "cell_type": "markdown",
   "metadata": {},
   "source": [
    "# functools"
   ]
  },
  {
   "cell_type": "code",
   "execution_count": 24,
   "metadata": {},
   "outputs": [],
   "source": [
    "from functools import cache \n",
    "from functools import lru_cache \n",
    "\n",
    "\n",
    "@lru_cache(maxsize = 128) \n",
    "def fib_with_cache(n): \n",
    "\tif n < 2: \n",
    "\t\treturn n \n",
    "\treturn fib_with_cache(n-1) + fib_with_cache(n-2) "
   ]
  },
  {
   "cell_type": "markdown",
   "metadata": {},
   "source": [
    "# bisect"
   ]
  },
  {
   "cell_type": "code",
   "execution_count": null,
   "metadata": {},
   "outputs": [],
   "source": [
    "import bisect\n",
    "\n",
    "li = [1, 3, 4, 4, 4, 6, 7]\n",
    "\n",
    "\n",
    "print (\"Rightmost index to insert, so list remains sorted is : \",end=\"\")\n",
    "print (bisect.bisect(li, 4))\n",
    "\n",
    "# using bisect_left() to find index to insert new element\n",
    "# returns 2 ( left most possible index )\n",
    "print (\"Leftmost index to insert, so list remains sorted is : \", end=\"\")\n",
    "print (bisect.bisect_left(li, 4))\n",
    "\n",
    "# using bisect_right() to find index to insert new element\n",
    "# returns 4 ( right most possible index )\n",
    "print (\"Rightmost index to insert, so list remains sorted is : \",end=\"\")\n",
    "print (bisect.bisect_right(li, 4))"
   ]
  }
 ],
 "metadata": {
  "kernelspec": {
   "display_name": "Python 3",
   "language": "python",
   "name": "python3"
  },
  "language_info": {
   "codemirror_mode": {
    "name": "ipython",
    "version": 3
   },
   "file_extension": ".py",
   "mimetype": "text/x-python",
   "name": "python",
   "nbconvert_exporter": "python",
   "pygments_lexer": "ipython3",
   "version": "3.12.3"
  }
 },
 "nbformat": 4,
 "nbformat_minor": 2
}
